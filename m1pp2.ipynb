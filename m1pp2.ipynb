{
  "nbformat": 4,
  "nbformat_minor": 0,
  "metadata": {
    "colab": {
      "provenance": [],
      "authorship_tag": "ABX9TyMEex7NPfRV4qZvFje8LC2g",
      "include_colab_link": true
    },
    "kernelspec": {
      "name": "python3",
      "display_name": "Python 3"
    },
    "language_info": {
      "name": "python"
    }
  },
  "cells": [
    {
      "cell_type": "markdown",
      "metadata": {
        "id": "view-in-github",
        "colab_type": "text"
      },
      "source": [
        "<a href=\"https://colab.research.google.com/github/CODERdeeps/MLCDAC/blob/main/m1pp2.ipynb\" target=\"_parent\"><img src=\"https://colab.research.google.com/assets/colab-badge.svg\" alt=\"Open In Colab\"/></a>"
      ]
    },
    {
      "cell_type": "code",
      "execution_count": 2,
      "metadata": {
        "id": "92FXC93B75RD"
      },
      "outputs": [],
      "source": [
        "import pandas as pd\n",
        "import numpy as np"
      ]
    },
    {
      "cell_type": "code",
      "source": [
        "df = pd.read_csv('/content/mergedcustomers_missing_values_GENDER.csv')"
      ],
      "metadata": {
        "id": "5co1HQZj8KHu"
      },
      "execution_count": 3,
      "outputs": []
    },
    {
      "cell_type": "code",
      "source": [
        "import matplotlib.pyplot as plt"
      ],
      "metadata": {
        "id": "fhsknWVMZilM"
      },
      "execution_count": 4,
      "outputs": []
    },
    {
      "cell_type": "code",
      "source": [
        "df.head(2)"
      ],
      "metadata": {
        "colab": {
          "base_uri": "https://localhost:8080/",
          "height": 176
        },
        "id": "VSBOONRaZoVO",
        "outputId": "eaa6c861-a069-4c20-abe9-7933984b82e8"
      },
      "execution_count": 5,
      "outputs": [
        {
          "output_type": "execute_result",
          "data": {
            "text/plain": [
              "     ID CHURNRISK GENDER STATUS  CHILDREN  ESTINCOME HOMEOWNER  AGE  \\\n",
              "0  1703    Medium    NaN      M         2    28766.9         N   47   \n",
              "1  1704       Low    NaN      M         2    91272.2         Y   25   \n",
              "\n",
              "   TOTALDOLLARVALUETRADED  TOTALUNITSTRADED  LARGESTSINGLETRANSACTION  \\\n",
              "0                 6110.61                58                 1527.6525   \n",
              "1                26992.70                13                13496.3500   \n",
              "\n",
              "   SMALLESTSINGLETRANSACTION  PERCENTCHANGECALCULATION  DAYSSINCELASTLOGIN  \\\n",
              "0                  152.76525                      8.70                   2   \n",
              "1                 1349.63500                      3.25                   4   \n",
              "\n",
              "   DAYSSINCELASTTRADE  NETREALIZEDGAINS_YTD  NETREALIZEDLOSSES_YTD  \n",
              "0                  13                 0.000              152.76525  \n",
              "1                  10              1349.635                0.00000  "
            ],
            "text/html": [
              "\n",
              "  <div id=\"df-bc66536a-fcef-48b4-9d6f-443bc8a8455a\">\n",
              "    <div class=\"colab-df-container\">\n",
              "      <div>\n",
              "<style scoped>\n",
              "    .dataframe tbody tr th:only-of-type {\n",
              "        vertical-align: middle;\n",
              "    }\n",
              "\n",
              "    .dataframe tbody tr th {\n",
              "        vertical-align: top;\n",
              "    }\n",
              "\n",
              "    .dataframe thead th {\n",
              "        text-align: right;\n",
              "    }\n",
              "</style>\n",
              "<table border=\"1\" class=\"dataframe\">\n",
              "  <thead>\n",
              "    <tr style=\"text-align: right;\">\n",
              "      <th></th>\n",
              "      <th>ID</th>\n",
              "      <th>CHURNRISK</th>\n",
              "      <th>GENDER</th>\n",
              "      <th>STATUS</th>\n",
              "      <th>CHILDREN</th>\n",
              "      <th>ESTINCOME</th>\n",
              "      <th>HOMEOWNER</th>\n",
              "      <th>AGE</th>\n",
              "      <th>TOTALDOLLARVALUETRADED</th>\n",
              "      <th>TOTALUNITSTRADED</th>\n",
              "      <th>LARGESTSINGLETRANSACTION</th>\n",
              "      <th>SMALLESTSINGLETRANSACTION</th>\n",
              "      <th>PERCENTCHANGECALCULATION</th>\n",
              "      <th>DAYSSINCELASTLOGIN</th>\n",
              "      <th>DAYSSINCELASTTRADE</th>\n",
              "      <th>NETREALIZEDGAINS_YTD</th>\n",
              "      <th>NETREALIZEDLOSSES_YTD</th>\n",
              "    </tr>\n",
              "  </thead>\n",
              "  <tbody>\n",
              "    <tr>\n",
              "      <th>0</th>\n",
              "      <td>1703</td>\n",
              "      <td>Medium</td>\n",
              "      <td>NaN</td>\n",
              "      <td>M</td>\n",
              "      <td>2</td>\n",
              "      <td>28766.9</td>\n",
              "      <td>N</td>\n",
              "      <td>47</td>\n",
              "      <td>6110.61</td>\n",
              "      <td>58</td>\n",
              "      <td>1527.6525</td>\n",
              "      <td>152.76525</td>\n",
              "      <td>8.70</td>\n",
              "      <td>2</td>\n",
              "      <td>13</td>\n",
              "      <td>0.000</td>\n",
              "      <td>152.76525</td>\n",
              "    </tr>\n",
              "    <tr>\n",
              "      <th>1</th>\n",
              "      <td>1704</td>\n",
              "      <td>Low</td>\n",
              "      <td>NaN</td>\n",
              "      <td>M</td>\n",
              "      <td>2</td>\n",
              "      <td>91272.2</td>\n",
              "      <td>Y</td>\n",
              "      <td>25</td>\n",
              "      <td>26992.70</td>\n",
              "      <td>13</td>\n",
              "      <td>13496.3500</td>\n",
              "      <td>1349.63500</td>\n",
              "      <td>3.25</td>\n",
              "      <td>4</td>\n",
              "      <td>10</td>\n",
              "      <td>1349.635</td>\n",
              "      <td>0.00000</td>\n",
              "    </tr>\n",
              "  </tbody>\n",
              "</table>\n",
              "</div>\n",
              "      <button class=\"colab-df-convert\" onclick=\"convertToInteractive('df-bc66536a-fcef-48b4-9d6f-443bc8a8455a')\"\n",
              "              title=\"Convert this dataframe to an interactive table.\"\n",
              "              style=\"display:none;\">\n",
              "        \n",
              "  <svg xmlns=\"http://www.w3.org/2000/svg\" height=\"24px\"viewBox=\"0 0 24 24\"\n",
              "       width=\"24px\">\n",
              "    <path d=\"M0 0h24v24H0V0z\" fill=\"none\"/>\n",
              "    <path d=\"M18.56 5.44l.94 2.06.94-2.06 2.06-.94-2.06-.94-.94-2.06-.94 2.06-2.06.94zm-11 1L8.5 8.5l.94-2.06 2.06-.94-2.06-.94L8.5 2.5l-.94 2.06-2.06.94zm10 10l.94 2.06.94-2.06 2.06-.94-2.06-.94-.94-2.06-.94 2.06-2.06.94z\"/><path d=\"M17.41 7.96l-1.37-1.37c-.4-.4-.92-.59-1.43-.59-.52 0-1.04.2-1.43.59L10.3 9.45l-7.72 7.72c-.78.78-.78 2.05 0 2.83L4 21.41c.39.39.9.59 1.41.59.51 0 1.02-.2 1.41-.59l7.78-7.78 2.81-2.81c.8-.78.8-2.07 0-2.86zM5.41 20L4 18.59l7.72-7.72 1.47 1.35L5.41 20z\"/>\n",
              "  </svg>\n",
              "      </button>\n",
              "      \n",
              "  <style>\n",
              "    .colab-df-container {\n",
              "      display:flex;\n",
              "      flex-wrap:wrap;\n",
              "      gap: 12px;\n",
              "    }\n",
              "\n",
              "    .colab-df-convert {\n",
              "      background-color: #E8F0FE;\n",
              "      border: none;\n",
              "      border-radius: 50%;\n",
              "      cursor: pointer;\n",
              "      display: none;\n",
              "      fill: #1967D2;\n",
              "      height: 32px;\n",
              "      padding: 0 0 0 0;\n",
              "      width: 32px;\n",
              "    }\n",
              "\n",
              "    .colab-df-convert:hover {\n",
              "      background-color: #E2EBFA;\n",
              "      box-shadow: 0px 1px 2px rgba(60, 64, 67, 0.3), 0px 1px 3px 1px rgba(60, 64, 67, 0.15);\n",
              "      fill: #174EA6;\n",
              "    }\n",
              "\n",
              "    [theme=dark] .colab-df-convert {\n",
              "      background-color: #3B4455;\n",
              "      fill: #D2E3FC;\n",
              "    }\n",
              "\n",
              "    [theme=dark] .colab-df-convert:hover {\n",
              "      background-color: #434B5C;\n",
              "      box-shadow: 0px 1px 3px 1px rgba(0, 0, 0, 0.15);\n",
              "      filter: drop-shadow(0px 1px 2px rgba(0, 0, 0, 0.3));\n",
              "      fill: #FFFFFF;\n",
              "    }\n",
              "  </style>\n",
              "\n",
              "      <script>\n",
              "        const buttonEl =\n",
              "          document.querySelector('#df-bc66536a-fcef-48b4-9d6f-443bc8a8455a button.colab-df-convert');\n",
              "        buttonEl.style.display =\n",
              "          google.colab.kernel.accessAllowed ? 'block' : 'none';\n",
              "\n",
              "        async function convertToInteractive(key) {\n",
              "          const element = document.querySelector('#df-bc66536a-fcef-48b4-9d6f-443bc8a8455a');\n",
              "          const dataTable =\n",
              "            await google.colab.kernel.invokeFunction('convertToInteractive',\n",
              "                                                     [key], {});\n",
              "          if (!dataTable) return;\n",
              "\n",
              "          const docLinkHtml = 'Like what you see? Visit the ' +\n",
              "            '<a target=\"_blank\" href=https://colab.research.google.com/notebooks/data_table.ipynb>data table notebook</a>'\n",
              "            + ' to learn more about interactive tables.';\n",
              "          element.innerHTML = '';\n",
              "          dataTable['output_type'] = 'display_data';\n",
              "          await google.colab.output.renderOutput(dataTable, element);\n",
              "          const docLink = document.createElement('div');\n",
              "          docLink.innerHTML = docLinkHtml;\n",
              "          element.appendChild(docLink);\n",
              "        }\n",
              "      </script>\n",
              "    </div>\n",
              "  </div>\n",
              "  "
            ]
          },
          "metadata": {},
          "execution_count": 5
        }
      ]
    },
    {
      "cell_type": "code",
      "source": [
        "df.shape"
      ],
      "metadata": {
        "colab": {
          "base_uri": "https://localhost:8080/"
        },
        "id": "v0CYtlMWai1v",
        "outputId": "7a6109d8-212b-4845-b7a5-cd141cb3a5bd"
      },
      "execution_count": 6,
      "outputs": [
        {
          "output_type": "execute_result",
          "data": {
            "text/plain": [
              "(2066, 17)"
            ]
          },
          "metadata": {},
          "execution_count": 6
        }
      ]
    },
    {
      "cell_type": "code",
      "source": [
        "df.ndim"
      ],
      "metadata": {
        "colab": {
          "base_uri": "https://localhost:8080/"
        },
        "id": "-H5GB9bGaoAO",
        "outputId": "412791c5-539f-493c-ec8e-0dd3721c500f"
      },
      "execution_count": 7,
      "outputs": [
        {
          "output_type": "execute_result",
          "data": {
            "text/plain": [
              "2"
            ]
          },
          "metadata": {},
          "execution_count": 7
        }
      ]
    },
    {
      "cell_type": "code",
      "source": [
        "df.describe()"
      ],
      "metadata": {
        "colab": {
          "base_uri": "https://localhost:8080/",
          "height": 364
        },
        "id": "FLgg3zaPasqU",
        "outputId": "b182523f-5341-45cb-c4ef-1a5e3c425f02"
      },
      "execution_count": 9,
      "outputs": [
        {
          "output_type": "execute_result",
          "data": {
            "text/plain": [
              "                ID     CHILDREN      ESTINCOME          AGE  \\\n",
              "count  2066.000000  2066.000000    2066.000000  2066.000000   \n",
              "mean   1032.500000     1.146176   51514.070465    42.802033   \n",
              "std     596.547148     0.843105   30805.652721    14.919932   \n",
              "min       0.000000     0.000000      96.330000    12.000000   \n",
              "25%     516.250000     0.000000   21021.600000    30.250000   \n",
              "50%    1032.500000     1.000000   55860.000000    46.000000   \n",
              "75%    1548.750000     2.000000   78000.000000    54.000000   \n",
              "max    2065.000000     2.000000  120000.000000    77.000000   \n",
              "\n",
              "       TOTALDOLLARVALUETRADED  TOTALUNITSTRADED  LARGESTSINGLETRANSACTION  \\\n",
              "count             2066.000000       2066.000000               2066.000000   \n",
              "mean             16141.207609         58.594385               7734.947030   \n",
              "std               9920.982916         57.656443               5314.081336   \n",
              "min                  0.000000          0.000000                  0.000000   \n",
              "25%               8090.810000         15.000000               2022.702500   \n",
              "50%              16141.610000         39.000000               8070.805000   \n",
              "75%              22992.300000         87.000000              11496.150000   \n",
              "max              59755.980000        332.000000              29877.990000   \n",
              "\n",
              "       SMALLESTSINGLETRANSACTION  PERCENTCHANGECALCULATION  \\\n",
              "count                2066.000000               2066.000000   \n",
              "mean                  773.494703                 13.346854   \n",
              "std                   531.408134                 13.961391   \n",
              "min                     0.000000                  0.000000   \n",
              "25%                   202.270250                  3.250000   \n",
              "50%                   807.080500                  8.250000   \n",
              "75%                  1149.615000                 20.000000   \n",
              "max                  2987.799000                 83.000000   \n",
              "\n",
              "       DAYSSINCELASTLOGIN  DAYSSINCELASTTRADE  NETREALIZEDGAINS_YTD  \\\n",
              "count         2066.000000         2066.000000           2066.000000   \n",
              "mean             2.903195            9.355276            364.559448   \n",
              "std              1.498448            4.250351            536.820452   \n",
              "min              0.000000            0.000000              0.000000   \n",
              "25%              2.000000            6.250000              0.000000   \n",
              "50%              3.000000            9.000000              0.000000   \n",
              "75%              4.000000           11.000000            807.080500   \n",
              "max              5.000000           20.000000           2987.799000   \n",
              "\n",
              "       NETREALIZEDLOSSES_YTD  \n",
              "count            2066.000000  \n",
              "mean              426.145109  \n",
              "std               535.531833  \n",
              "min                 0.000000  \n",
              "25%                 0.000000  \n",
              "50%               143.014250  \n",
              "75%               809.330875  \n",
              "max              2950.295000  "
            ],
            "text/html": [
              "\n",
              "  <div id=\"df-399010f1-0e56-4b8b-adf0-8ffcebf8d8d9\">\n",
              "    <div class=\"colab-df-container\">\n",
              "      <div>\n",
              "<style scoped>\n",
              "    .dataframe tbody tr th:only-of-type {\n",
              "        vertical-align: middle;\n",
              "    }\n",
              "\n",
              "    .dataframe tbody tr th {\n",
              "        vertical-align: top;\n",
              "    }\n",
              "\n",
              "    .dataframe thead th {\n",
              "        text-align: right;\n",
              "    }\n",
              "</style>\n",
              "<table border=\"1\" class=\"dataframe\">\n",
              "  <thead>\n",
              "    <tr style=\"text-align: right;\">\n",
              "      <th></th>\n",
              "      <th>ID</th>\n",
              "      <th>CHILDREN</th>\n",
              "      <th>ESTINCOME</th>\n",
              "      <th>AGE</th>\n",
              "      <th>TOTALDOLLARVALUETRADED</th>\n",
              "      <th>TOTALUNITSTRADED</th>\n",
              "      <th>LARGESTSINGLETRANSACTION</th>\n",
              "      <th>SMALLESTSINGLETRANSACTION</th>\n",
              "      <th>PERCENTCHANGECALCULATION</th>\n",
              "      <th>DAYSSINCELASTLOGIN</th>\n",
              "      <th>DAYSSINCELASTTRADE</th>\n",
              "      <th>NETREALIZEDGAINS_YTD</th>\n",
              "      <th>NETREALIZEDLOSSES_YTD</th>\n",
              "    </tr>\n",
              "  </thead>\n",
              "  <tbody>\n",
              "    <tr>\n",
              "      <th>count</th>\n",
              "      <td>2066.000000</td>\n",
              "      <td>2066.000000</td>\n",
              "      <td>2066.000000</td>\n",
              "      <td>2066.000000</td>\n",
              "      <td>2066.000000</td>\n",
              "      <td>2066.000000</td>\n",
              "      <td>2066.000000</td>\n",
              "      <td>2066.000000</td>\n",
              "      <td>2066.000000</td>\n",
              "      <td>2066.000000</td>\n",
              "      <td>2066.000000</td>\n",
              "      <td>2066.000000</td>\n",
              "      <td>2066.000000</td>\n",
              "    </tr>\n",
              "    <tr>\n",
              "      <th>mean</th>\n",
              "      <td>1032.500000</td>\n",
              "      <td>1.146176</td>\n",
              "      <td>51514.070465</td>\n",
              "      <td>42.802033</td>\n",
              "      <td>16141.207609</td>\n",
              "      <td>58.594385</td>\n",
              "      <td>7734.947030</td>\n",
              "      <td>773.494703</td>\n",
              "      <td>13.346854</td>\n",
              "      <td>2.903195</td>\n",
              "      <td>9.355276</td>\n",
              "      <td>364.559448</td>\n",
              "      <td>426.145109</td>\n",
              "    </tr>\n",
              "    <tr>\n",
              "      <th>std</th>\n",
              "      <td>596.547148</td>\n",
              "      <td>0.843105</td>\n",
              "      <td>30805.652721</td>\n",
              "      <td>14.919932</td>\n",
              "      <td>9920.982916</td>\n",
              "      <td>57.656443</td>\n",
              "      <td>5314.081336</td>\n",
              "      <td>531.408134</td>\n",
              "      <td>13.961391</td>\n",
              "      <td>1.498448</td>\n",
              "      <td>4.250351</td>\n",
              "      <td>536.820452</td>\n",
              "      <td>535.531833</td>\n",
              "    </tr>\n",
              "    <tr>\n",
              "      <th>min</th>\n",
              "      <td>0.000000</td>\n",
              "      <td>0.000000</td>\n",
              "      <td>96.330000</td>\n",
              "      <td>12.000000</td>\n",
              "      <td>0.000000</td>\n",
              "      <td>0.000000</td>\n",
              "      <td>0.000000</td>\n",
              "      <td>0.000000</td>\n",
              "      <td>0.000000</td>\n",
              "      <td>0.000000</td>\n",
              "      <td>0.000000</td>\n",
              "      <td>0.000000</td>\n",
              "      <td>0.000000</td>\n",
              "    </tr>\n",
              "    <tr>\n",
              "      <th>25%</th>\n",
              "      <td>516.250000</td>\n",
              "      <td>0.000000</td>\n",
              "      <td>21021.600000</td>\n",
              "      <td>30.250000</td>\n",
              "      <td>8090.810000</td>\n",
              "      <td>15.000000</td>\n",
              "      <td>2022.702500</td>\n",
              "      <td>202.270250</td>\n",
              "      <td>3.250000</td>\n",
              "      <td>2.000000</td>\n",
              "      <td>6.250000</td>\n",
              "      <td>0.000000</td>\n",
              "      <td>0.000000</td>\n",
              "    </tr>\n",
              "    <tr>\n",
              "      <th>50%</th>\n",
              "      <td>1032.500000</td>\n",
              "      <td>1.000000</td>\n",
              "      <td>55860.000000</td>\n",
              "      <td>46.000000</td>\n",
              "      <td>16141.610000</td>\n",
              "      <td>39.000000</td>\n",
              "      <td>8070.805000</td>\n",
              "      <td>807.080500</td>\n",
              "      <td>8.250000</td>\n",
              "      <td>3.000000</td>\n",
              "      <td>9.000000</td>\n",
              "      <td>0.000000</td>\n",
              "      <td>143.014250</td>\n",
              "    </tr>\n",
              "    <tr>\n",
              "      <th>75%</th>\n",
              "      <td>1548.750000</td>\n",
              "      <td>2.000000</td>\n",
              "      <td>78000.000000</td>\n",
              "      <td>54.000000</td>\n",
              "      <td>22992.300000</td>\n",
              "      <td>87.000000</td>\n",
              "      <td>11496.150000</td>\n",
              "      <td>1149.615000</td>\n",
              "      <td>20.000000</td>\n",
              "      <td>4.000000</td>\n",
              "      <td>11.000000</td>\n",
              "      <td>807.080500</td>\n",
              "      <td>809.330875</td>\n",
              "    </tr>\n",
              "    <tr>\n",
              "      <th>max</th>\n",
              "      <td>2065.000000</td>\n",
              "      <td>2.000000</td>\n",
              "      <td>120000.000000</td>\n",
              "      <td>77.000000</td>\n",
              "      <td>59755.980000</td>\n",
              "      <td>332.000000</td>\n",
              "      <td>29877.990000</td>\n",
              "      <td>2987.799000</td>\n",
              "      <td>83.000000</td>\n",
              "      <td>5.000000</td>\n",
              "      <td>20.000000</td>\n",
              "      <td>2987.799000</td>\n",
              "      <td>2950.295000</td>\n",
              "    </tr>\n",
              "  </tbody>\n",
              "</table>\n",
              "</div>\n",
              "      <button class=\"colab-df-convert\" onclick=\"convertToInteractive('df-399010f1-0e56-4b8b-adf0-8ffcebf8d8d9')\"\n",
              "              title=\"Convert this dataframe to an interactive table.\"\n",
              "              style=\"display:none;\">\n",
              "        \n",
              "  <svg xmlns=\"http://www.w3.org/2000/svg\" height=\"24px\"viewBox=\"0 0 24 24\"\n",
              "       width=\"24px\">\n",
              "    <path d=\"M0 0h24v24H0V0z\" fill=\"none\"/>\n",
              "    <path d=\"M18.56 5.44l.94 2.06.94-2.06 2.06-.94-2.06-.94-.94-2.06-.94 2.06-2.06.94zm-11 1L8.5 8.5l.94-2.06 2.06-.94-2.06-.94L8.5 2.5l-.94 2.06-2.06.94zm10 10l.94 2.06.94-2.06 2.06-.94-2.06-.94-.94-2.06-.94 2.06-2.06.94z\"/><path d=\"M17.41 7.96l-1.37-1.37c-.4-.4-.92-.59-1.43-.59-.52 0-1.04.2-1.43.59L10.3 9.45l-7.72 7.72c-.78.78-.78 2.05 0 2.83L4 21.41c.39.39.9.59 1.41.59.51 0 1.02-.2 1.41-.59l7.78-7.78 2.81-2.81c.8-.78.8-2.07 0-2.86zM5.41 20L4 18.59l7.72-7.72 1.47 1.35L5.41 20z\"/>\n",
              "  </svg>\n",
              "      </button>\n",
              "      \n",
              "  <style>\n",
              "    .colab-df-container {\n",
              "      display:flex;\n",
              "      flex-wrap:wrap;\n",
              "      gap: 12px;\n",
              "    }\n",
              "\n",
              "    .colab-df-convert {\n",
              "      background-color: #E8F0FE;\n",
              "      border: none;\n",
              "      border-radius: 50%;\n",
              "      cursor: pointer;\n",
              "      display: none;\n",
              "      fill: #1967D2;\n",
              "      height: 32px;\n",
              "      padding: 0 0 0 0;\n",
              "      width: 32px;\n",
              "    }\n",
              "\n",
              "    .colab-df-convert:hover {\n",
              "      background-color: #E2EBFA;\n",
              "      box-shadow: 0px 1px 2px rgba(60, 64, 67, 0.3), 0px 1px 3px 1px rgba(60, 64, 67, 0.15);\n",
              "      fill: #174EA6;\n",
              "    }\n",
              "\n",
              "    [theme=dark] .colab-df-convert {\n",
              "      background-color: #3B4455;\n",
              "      fill: #D2E3FC;\n",
              "    }\n",
              "\n",
              "    [theme=dark] .colab-df-convert:hover {\n",
              "      background-color: #434B5C;\n",
              "      box-shadow: 0px 1px 3px 1px rgba(0, 0, 0, 0.15);\n",
              "      filter: drop-shadow(0px 1px 2px rgba(0, 0, 0, 0.3));\n",
              "      fill: #FFFFFF;\n",
              "    }\n",
              "  </style>\n",
              "\n",
              "      <script>\n",
              "        const buttonEl =\n",
              "          document.querySelector('#df-399010f1-0e56-4b8b-adf0-8ffcebf8d8d9 button.colab-df-convert');\n",
              "        buttonEl.style.display =\n",
              "          google.colab.kernel.accessAllowed ? 'block' : 'none';\n",
              "\n",
              "        async function convertToInteractive(key) {\n",
              "          const element = document.querySelector('#df-399010f1-0e56-4b8b-adf0-8ffcebf8d8d9');\n",
              "          const dataTable =\n",
              "            await google.colab.kernel.invokeFunction('convertToInteractive',\n",
              "                                                     [key], {});\n",
              "          if (!dataTable) return;\n",
              "\n",
              "          const docLinkHtml = 'Like what you see? Visit the ' +\n",
              "            '<a target=\"_blank\" href=https://colab.research.google.com/notebooks/data_table.ipynb>data table notebook</a>'\n",
              "            + ' to learn more about interactive tables.';\n",
              "          element.innerHTML = '';\n",
              "          dataTable['output_type'] = 'display_data';\n",
              "          await google.colab.output.renderOutput(dataTable, element);\n",
              "          const docLink = document.createElement('div');\n",
              "          docLink.innerHTML = docLinkHtml;\n",
              "          element.appendChild(docLink);\n",
              "        }\n",
              "      </script>\n",
              "    </div>\n",
              "  </div>\n",
              "  "
            ]
          },
          "metadata": {},
          "execution_count": 9
        }
      ]
    },
    {
      "cell_type": "code",
      "source": [
        "df.duplicated().sum()"
      ],
      "metadata": {
        "colab": {
          "base_uri": "https://localhost:8080/"
        },
        "id": "9gFdalozavqm",
        "outputId": "e7f3556b-bfbd-4444-a7e2-478d16a765f8"
      },
      "execution_count": 10,
      "outputs": [
        {
          "output_type": "execute_result",
          "data": {
            "text/plain": [
              "0"
            ]
          },
          "metadata": {},
          "execution_count": 10
        }
      ]
    },
    {
      "cell_type": "code",
      "source": [
        "x = df.iloc[:,-15:].values ## for having independent variable"
      ],
      "metadata": {
        "id": "3Z5juZ3ZbHiM"
      },
      "execution_count": 25,
      "outputs": []
    },
    {
      "cell_type": "code",
      "source": [
        "print(x)"
      ],
      "metadata": {
        "colab": {
          "base_uri": "https://localhost:8080/"
        },
        "id": "CsfiKnWec-Eb",
        "outputId": "0d759a77-0866-4c48-874d-954ccf174e54"
      },
      "execution_count": 26,
      "outputs": [
        {
          "output_type": "stream",
          "name": "stdout",
          "text": [
            "[[nan 'M' 2 ... 13 0.0 152.76525]\n",
            " [nan 'M' 2 ... 10 1349.635 0.0]\n",
            " [nan 'S' 0 ... 5 1123.6125 0.0]\n",
            " ...\n",
            " ['F' 'S' 0 ... 11 0.0 82.50825]\n",
            " ['F' 'M' 2 ... 5 930.093 0.0]\n",
            " ['M' 'M' 2 ... 8 1041.604 0.0]]\n"
          ]
        }
      ]
    },
    {
      "cell_type": "code",
      "source": [
        "y = df.iloc[:,1].values"
      ],
      "metadata": {
        "id": "_OVOdq7EdmSY"
      },
      "execution_count": 27,
      "outputs": []
    },
    {
      "cell_type": "code",
      "source": [
        "print(y)"
      ],
      "metadata": {
        "colab": {
          "base_uri": "https://localhost:8080/"
        },
        "id": "ZvTWpdw5eDpi",
        "outputId": "0b7f72a1-816f-4288-f7e0-c0b76e6a6eb0"
      },
      "execution_count": 28,
      "outputs": [
        {
          "output_type": "stream",
          "name": "stdout",
          "text": [
            "['Medium' 'Low' 'Low' ... 'Medium' 'Low' 'Low']\n"
          ]
        }
      ]
    },
    {
      "cell_type": "code",
      "source": [
        "!pip install -U scikit-learn"
      ],
      "metadata": {
        "colab": {
          "base_uri": "https://localhost:8080/"
        },
        "id": "4hjgXp9UeEev",
        "outputId": "1c0e2de6-a365-4585-a6c1-d9434538466c"
      },
      "execution_count": 33,
      "outputs": [
        {
          "output_type": "stream",
          "name": "stdout",
          "text": [
            "Looking in indexes: https://pypi.org/simple, https://us-python.pkg.dev/colab-wheels/public/simple/\n",
            "Requirement already satisfied: scikit-learn in /usr/local/lib/python3.10/dist-packages (1.2.2)\n",
            "Requirement already satisfied: numpy>=1.17.3 in /usr/local/lib/python3.10/dist-packages (from scikit-learn) (1.22.4)\n",
            "Requirement already satisfied: scipy>=1.3.2 in /usr/local/lib/python3.10/dist-packages (from scikit-learn) (1.10.1)\n",
            "Requirement already satisfied: joblib>=1.1.1 in /usr/local/lib/python3.10/dist-packages (from scikit-learn) (1.2.0)\n",
            "Requirement already satisfied: threadpoolctl>=2.0.0 in /usr/local/lib/python3.10/dist-packages (from scikit-learn) (3.1.0)\n"
          ]
        }
      ]
    },
    {
      "cell_type": "code",
      "source": [
        "from sklearn.impute import SimpleImputer"
      ],
      "metadata": {
        "id": "zT8TTwYEfIez"
      },
      "execution_count": 35,
      "outputs": []
    },
    {
      "cell_type": "code",
      "source": [
        "imputer= SimpleImputer(missing_values ='NaN', strategy='mean')  \n"
      ],
      "metadata": {
        "id": "KXSUXRfdf6L8"
      },
      "execution_count": 37,
      "outputs": []
    },
    {
      "cell_type": "code",
      "source": [],
      "metadata": {
        "id": "tzvVRqT7gVS4"
      },
      "execution_count": null,
      "outputs": []
    }
  ]
}