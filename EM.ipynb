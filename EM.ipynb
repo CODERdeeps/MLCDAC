{
  "nbformat": 4,
  "nbformat_minor": 0,
  "metadata": {
    "colab": {
      "provenance": [],
      "authorship_tag": "ABX9TyOj2wtHJoKn8xEzu8JfTv6b",
      "include_colab_link": true
    },
    "kernelspec": {
      "name": "python3",
      "display_name": "Python 3"
    },
    "language_info": {
      "name": "python"
    }
  },
  "cells": [
    {
      "cell_type": "markdown",
      "metadata": {
        "id": "view-in-github",
        "colab_type": "text"
      },
      "source": [
        "<a href=\"https://colab.research.google.com/github/CODERdeeps/MLCDAC/blob/main/EM.ipynb\" target=\"_parent\"><img src=\"https://colab.research.google.com/assets/colab-badge.svg\" alt=\"Open In Colab\"/></a>"
      ]
    },
    {
      "cell_type": "code",
      "execution_count": 11,
      "metadata": {
        "id": "OEngzMVIkrZ_",
        "colab": {
          "base_uri": "https://localhost:8080/"
        },
        "outputId": "af611502-2e74-4987-b1cb-f08742fa4721"
      },
      "outputs": [
        {
          "metadata": {
            "tags": null
          },
          "name": "stdout",
          "output_type": "stream",
          "text": [
            "Log Loss: 0.48105252821736166\n",
            "Best Parameters: {'max_depth': 10, 'min_samples_leaf': 1, 'min_samples_split': 2, 'n_estimators': 100}\n"
          ]
        }
      ],
      "source": [
        "import pandas as pd\n",
        "from sklearn.model_selection import train_test_split, GridSearchCV\n",
        "from sklearn.ensemble import RandomForestClassifier\n",
        "from sklearn.metrics import log_loss\n",
        "\n",
        "# Load the dataset\n",
        "data = pd.read_csv('/content/Glass.csv')\n",
        "\n",
        "# Preprocess the data\n",
        "X = data.drop('Type', axis=1)\n",
        "y = data['Type']\n",
        "\n",
        "# Split the data into training and testing sets\n",
        "X_train, X_test, y_train, y_test = train_test_split(X, y, test_size=0.2, random_state=42)\n",
        "\n",
        "# Define the parameter grid for tuning\n",
        "param_grid = {\n",
        "    'n_estimators': [100, 200, 300],\n",
        "    'max_depth': [None, 5, 10],\n",
        "    'min_samples_split': [2, 5, 10],\n",
        "    'min_samples_leaf': [1, 2, 4]\n",
        "}\n",
        "\n",
        "# Create the Random Forest classifier\n",
        "rf_classifier = RandomForestClassifier(random_state=42)\n",
        "\n",
        "# Perform grid search with cross-validation\n",
        "grid_search = GridSearchCV(rf_classifier, param_grid, scoring='neg_log_loss', cv=5)\n",
        "grid_search.fit(X_train, y_train)\n",
        "\n",
        "# Get the best model and its predictions\n",
        "best_rf = grid_search.best_estimator_\n",
        "y_pred_proba = best_rf.predict_proba(X_test)\n",
        "\n",
        "# Calculate log loss\n",
        "logloss = log_loss(y_test, y_pred_proba)\n",
        "print(\"Log Loss:\", logloss)\n",
        "\n",
        "# Print the best parameters found during grid search\n",
        "print(\"Best Parameters:\", grid_search.best_params_)\n"
      ]
    },
    {
      "cell_type": "code",
      "source": [
        "import pandas as pd\n",
        "from sklearn.model_selection import train_test_split\n",
        "from sklearn.preprocessing import LabelEncoder\n",
        "from sklearn.preprocessing import StandardScaler\n",
        "from imblearn.over_sampling import SMOTE\n",
        "from sklearn.ensemble import RandomForestClassifier\n",
        "from sklearn.model_selection import RandomizedSearchCV\n",
        "from xgboost import XGBClassifier\n",
        "from sklearn.svm import SVC\n",
        "from sklearn.metrics import roc_auc_score\n",
        "\n",
        "# Load the dataset\n",
        "data = pd.read_csv('/content/HepatitisCdata.csv')\n",
        "\n",
        "# Binarize the \"Category\" variable\n",
        "data['Category'] = data['Category'].apply(lambda x: 0 if x == 'Blood Donor' else 1)\n",
        "data['Sex'] = data['Sex'].apply(lambda x: 0 if x == 'm' else 1)\n",
        "# Separate features and target variable\n",
        "X = data.drop('Category', axis=1)\n",
        "y = data['Category']\n",
        "z = data['Sex']\n",
        "\n",
        "# Impute missing values (You can choose any method of your choice)\n",
        "X.fillna(X.mean(), inplace=True)  # Example: Filling missing values with mean\n",
        "\n",
        "# Encode categorical variables\n",
        "cat_cols = X.select_dtypes(include=['object']).columns\n",
        "X = pd.get_dummies(X, columns=cat_cols)\n",
        "\n",
        "# Balance the data with SMOTE (You can choose SMOTE or ADASYN)\n",
        "smote = SMOTE()\n",
        "X_resampled, y_resampled = smote.fit_resample(X, z)\n",
        "\n",
        "# Split the data into train and test sets\n",
        "X_train, X_test, y_train, y_test = train_test_split(X_resampled, y_resampled, test_size=0.1, random_state=42)\n",
        "\n",
        "# Randomized Search CV with Random Forest\n",
        "rf_classifier = RandomForestClassifier()\n",
        "param_grid_rf = {\n",
        "    'n_estimators': [100, 200, 300],\n",
        "    'max_depth': [None, 5, 10],\n",
        "    'min_samples_split': [2, 5, 10],\n",
        "    'min_samples_leaf': [1, 2, 4]\n",
        "}\n",
        "random_search_rf = RandomizedSearchCV(rf_classifier, param_grid_rf, scoring='roc_auc', cv=5)\n",
        "random_search_rf.fit(X_train, y_train)\n",
        "best_rf = random_search_rf.best_estimator_\n",
        "\n",
        "# Randomized Search CV with XGBoost\n",
        "xgb_classifier = XGBClassifier()\n",
        "param_grid_xgb = {\n",
        "    'n_estimators': [100, 200, 300],\n",
        "    'max_depth': [3, 5, 7],\n",
        "    'learning_rate': [0.01, 0.1, 0.2]\n",
        "}\n",
        "random_search_xgb = RandomizedSearchCV(xgb_classifier, param_grid_xgb, scoring='roc_auc', cv=5)\n",
        "random_search_xgb.fit(X_train, y_train)\n",
        "best_xgb = random_search_xgb.best_estimator_\n",
        "\n",
        "# Randomized Search CV with SVC-RBF\n",
        "svc_classifier = SVC(kernel='rbf', probability=True)\n",
        "param_grid_svc = {\n",
        "    'C': [0.1, 1, 10],\n",
        "    'gamma': ['scale', 'auto']\n",
        "}\n",
        "random_search_svc = RandomizedSearchCV(svc_classifier, param_grid_svc, scoring='roc_auc', cv=5)\n",
        "random_search_svc.fit(X_train, y_train)\n",
        "best_svc = random_search_svc.best_estimator_\n",
        "\n",
        "# Predict probabilities on the test set and calculate roc_auc\n",
        "y_pred_proba_rf = best_rf.predict_proba(X_test)\n",
        "roc_auc_rf = roc_auc_score(y_test, y_pred_proba_rf[:, 1])\n",
        "\n",
        "y_pred_proba_xgb = best_xgb.predict_proba(X_test)\n",
        "roc_auc_xgb = roc_auc_score(y_test, y_pred_proba_xgb[:, 1])\n",
        "\n",
        "y_pred_proba_svc = best_svc.predict_proba(X_test)\n",
        "roc_auc_svc = roc_auc_score(y_test, y_pred_proba_svc[:, 1])\n",
        "\n",
        "print(\"Random Forest ROC AUC:\", roc_auc_rf)\n",
        "print(\"XGBoost ROC AUC:\", roc_auc_xgb)\n",
        "print(\"SVC-RBF ROC AUC:\", roc_auc_svc)\n"
      ],
      "metadata": {
        "id": "oAxfPtpyoi-T",
        "colab": {
          "base_uri": "https://localhost:8080/"
        },
        "outputId": "2166b918-fe97-4466-8e91-d763c4ba16a5"
      },
      "execution_count": 27,
      "outputs": [
        {
          "output_type": "stream",
          "name": "stderr",
          "text": [
            "/usr/local/lib/python3.10/dist-packages/sklearn/model_selection/_search.py:305: UserWarning: The total space of parameters 6 is smaller than n_iter=10. Running 6 iterations. For exhaustive searches, use GridSearchCV.\n",
            "  warnings.warn(\n"
          ]
        },
        {
          "output_type": "stream",
          "name": "stdout",
          "text": [
            "Random Forest ROC AUC: 1.0\n",
            "XGBoost ROC AUC: 1.0\n",
            "SVC-RBF ROC AUC: 0.9944559944559944\n"
          ]
        }
      ]
    },
    {
      "cell_type": "code",
      "source": [],
      "metadata": {
        "id": "dHVVOqzNqJ39"
      },
      "execution_count": null,
      "outputs": []
    }
  ]
}