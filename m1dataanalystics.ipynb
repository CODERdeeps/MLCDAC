{
  "nbformat": 4,
  "nbformat_minor": 0,
  "metadata": {
    "colab": {
      "provenance": [],
      "authorship_tag": "ABX9TyNS85TS9kXXJzu4Dz8UJvtf",
      "include_colab_link": true
    },
    "kernelspec": {
      "name": "python3",
      "display_name": "Python 3"
    },
    "language_info": {
      "name": "python"
    }
  },
  "cells": [
    {
      "cell_type": "markdown",
      "metadata": {
        "id": "view-in-github",
        "colab_type": "text"
      },
      "source": [
        "<a href=\"https://colab.research.google.com/github/CODERdeeps/MLCDAC/blob/main/m1dataanalystics.ipynb\" target=\"_parent\"><img src=\"https://colab.research.google.com/assets/colab-badge.svg\" alt=\"Open In Colab\"/></a>"
      ]
    },
    {
      "cell_type": "code",
      "execution_count": 35,
      "metadata": {
        "id": "gUC1CNFa0GSK"
      },
      "outputs": [],
      "source": [
        "import numpy as np\n",
        "import pandas as pd\n",
        "import matplotlib.pyplot as plt"
      ]
    },
    {
      "cell_type": "code",
      "source": [
        "df = pd.read_csv('/content/train_XnW6LSF.csv')"
      ],
      "metadata": {
        "id": "ETTwbBTg7wFZ"
      },
      "execution_count": 36,
      "outputs": []
    },
    {
      "cell_type": "code",
      "source": [
        "df.describe()"
      ],
      "metadata": {
        "colab": {
          "base_uri": "https://localhost:8080/",
          "height": 300
        },
        "id": "TEg5N17F78oD",
        "outputId": "b2f2139f-3f72-4bba-e855-8dd9ce0d10db"
      },
      "execution_count": 37,
      "outputs": [
        {
          "output_type": "execute_result",
          "data": {
            "text/plain": [
              "       Item_Weight  Item_Visibility     Item_MRP  Outlet_Establishment_Year  \\\n",
              "count  7060.000000      8523.000000  8523.000000                8523.000000   \n",
              "mean     12.857645         0.066132   140.992782                1997.831867   \n",
              "std       4.643456         0.051598    62.275067                   8.371760   \n",
              "min       4.555000         0.000000    31.290000                1985.000000   \n",
              "25%       8.773750         0.026989    93.826500                1987.000000   \n",
              "50%      12.600000         0.053931   143.012800                1999.000000   \n",
              "75%      16.850000         0.094585   185.643700                2004.000000   \n",
              "max      21.350000         0.328391   266.888400                2009.000000   \n",
              "\n",
              "       Item_Outlet_Sales  \n",
              "count        8523.000000  \n",
              "mean         2181.288914  \n",
              "std          1706.499616  \n",
              "min            33.290000  \n",
              "25%           834.247400  \n",
              "50%          1794.331000  \n",
              "75%          3101.296400  \n",
              "max         13086.964800  "
            ],
            "text/html": [
              "\n",
              "  <div id=\"df-36d28427-d902-42a7-bb1b-0e21f0c8c4bd\">\n",
              "    <div class=\"colab-df-container\">\n",
              "      <div>\n",
              "<style scoped>\n",
              "    .dataframe tbody tr th:only-of-type {\n",
              "        vertical-align: middle;\n",
              "    }\n",
              "\n",
              "    .dataframe tbody tr th {\n",
              "        vertical-align: top;\n",
              "    }\n",
              "\n",
              "    .dataframe thead th {\n",
              "        text-align: right;\n",
              "    }\n",
              "</style>\n",
              "<table border=\"1\" class=\"dataframe\">\n",
              "  <thead>\n",
              "    <tr style=\"text-align: right;\">\n",
              "      <th></th>\n",
              "      <th>Item_Weight</th>\n",
              "      <th>Item_Visibility</th>\n",
              "      <th>Item_MRP</th>\n",
              "      <th>Outlet_Establishment_Year</th>\n",
              "      <th>Item_Outlet_Sales</th>\n",
              "    </tr>\n",
              "  </thead>\n",
              "  <tbody>\n",
              "    <tr>\n",
              "      <th>count</th>\n",
              "      <td>7060.000000</td>\n",
              "      <td>8523.000000</td>\n",
              "      <td>8523.000000</td>\n",
              "      <td>8523.000000</td>\n",
              "      <td>8523.000000</td>\n",
              "    </tr>\n",
              "    <tr>\n",
              "      <th>mean</th>\n",
              "      <td>12.857645</td>\n",
              "      <td>0.066132</td>\n",
              "      <td>140.992782</td>\n",
              "      <td>1997.831867</td>\n",
              "      <td>2181.288914</td>\n",
              "    </tr>\n",
              "    <tr>\n",
              "      <th>std</th>\n",
              "      <td>4.643456</td>\n",
              "      <td>0.051598</td>\n",
              "      <td>62.275067</td>\n",
              "      <td>8.371760</td>\n",
              "      <td>1706.499616</td>\n",
              "    </tr>\n",
              "    <tr>\n",
              "      <th>min</th>\n",
              "      <td>4.555000</td>\n",
              "      <td>0.000000</td>\n",
              "      <td>31.290000</td>\n",
              "      <td>1985.000000</td>\n",
              "      <td>33.290000</td>\n",
              "    </tr>\n",
              "    <tr>\n",
              "      <th>25%</th>\n",
              "      <td>8.773750</td>\n",
              "      <td>0.026989</td>\n",
              "      <td>93.826500</td>\n",
              "      <td>1987.000000</td>\n",
              "      <td>834.247400</td>\n",
              "    </tr>\n",
              "    <tr>\n",
              "      <th>50%</th>\n",
              "      <td>12.600000</td>\n",
              "      <td>0.053931</td>\n",
              "      <td>143.012800</td>\n",
              "      <td>1999.000000</td>\n",
              "      <td>1794.331000</td>\n",
              "    </tr>\n",
              "    <tr>\n",
              "      <th>75%</th>\n",
              "      <td>16.850000</td>\n",
              "      <td>0.094585</td>\n",
              "      <td>185.643700</td>\n",
              "      <td>2004.000000</td>\n",
              "      <td>3101.296400</td>\n",
              "    </tr>\n",
              "    <tr>\n",
              "      <th>max</th>\n",
              "      <td>21.350000</td>\n",
              "      <td>0.328391</td>\n",
              "      <td>266.888400</td>\n",
              "      <td>2009.000000</td>\n",
              "      <td>13086.964800</td>\n",
              "    </tr>\n",
              "  </tbody>\n",
              "</table>\n",
              "</div>\n",
              "      <button class=\"colab-df-convert\" onclick=\"convertToInteractive('df-36d28427-d902-42a7-bb1b-0e21f0c8c4bd')\"\n",
              "              title=\"Convert this dataframe to an interactive table.\"\n",
              "              style=\"display:none;\">\n",
              "        \n",
              "  <svg xmlns=\"http://www.w3.org/2000/svg\" height=\"24px\"viewBox=\"0 0 24 24\"\n",
              "       width=\"24px\">\n",
              "    <path d=\"M0 0h24v24H0V0z\" fill=\"none\"/>\n",
              "    <path d=\"M18.56 5.44l.94 2.06.94-2.06 2.06-.94-2.06-.94-.94-2.06-.94 2.06-2.06.94zm-11 1L8.5 8.5l.94-2.06 2.06-.94-2.06-.94L8.5 2.5l-.94 2.06-2.06.94zm10 10l.94 2.06.94-2.06 2.06-.94-2.06-.94-.94-2.06-.94 2.06-2.06.94z\"/><path d=\"M17.41 7.96l-1.37-1.37c-.4-.4-.92-.59-1.43-.59-.52 0-1.04.2-1.43.59L10.3 9.45l-7.72 7.72c-.78.78-.78 2.05 0 2.83L4 21.41c.39.39.9.59 1.41.59.51 0 1.02-.2 1.41-.59l7.78-7.78 2.81-2.81c.8-.78.8-2.07 0-2.86zM5.41 20L4 18.59l7.72-7.72 1.47 1.35L5.41 20z\"/>\n",
              "  </svg>\n",
              "      </button>\n",
              "      \n",
              "  <style>\n",
              "    .colab-df-container {\n",
              "      display:flex;\n",
              "      flex-wrap:wrap;\n",
              "      gap: 12px;\n",
              "    }\n",
              "\n",
              "    .colab-df-convert {\n",
              "      background-color: #E8F0FE;\n",
              "      border: none;\n",
              "      border-radius: 50%;\n",
              "      cursor: pointer;\n",
              "      display: none;\n",
              "      fill: #1967D2;\n",
              "      height: 32px;\n",
              "      padding: 0 0 0 0;\n",
              "      width: 32px;\n",
              "    }\n",
              "\n",
              "    .colab-df-convert:hover {\n",
              "      background-color: #E2EBFA;\n",
              "      box-shadow: 0px 1px 2px rgba(60, 64, 67, 0.3), 0px 1px 3px 1px rgba(60, 64, 67, 0.15);\n",
              "      fill: #174EA6;\n",
              "    }\n",
              "\n",
              "    [theme=dark] .colab-df-convert {\n",
              "      background-color: #3B4455;\n",
              "      fill: #D2E3FC;\n",
              "    }\n",
              "\n",
              "    [theme=dark] .colab-df-convert:hover {\n",
              "      background-color: #434B5C;\n",
              "      box-shadow: 0px 1px 3px 1px rgba(0, 0, 0, 0.15);\n",
              "      filter: drop-shadow(0px 1px 2px rgba(0, 0, 0, 0.3));\n",
              "      fill: #FFFFFF;\n",
              "    }\n",
              "  </style>\n",
              "\n",
              "      <script>\n",
              "        const buttonEl =\n",
              "          document.querySelector('#df-36d28427-d902-42a7-bb1b-0e21f0c8c4bd button.colab-df-convert');\n",
              "        buttonEl.style.display =\n",
              "          google.colab.kernel.accessAllowed ? 'block' : 'none';\n",
              "\n",
              "        async function convertToInteractive(key) {\n",
              "          const element = document.querySelector('#df-36d28427-d902-42a7-bb1b-0e21f0c8c4bd');\n",
              "          const dataTable =\n",
              "            await google.colab.kernel.invokeFunction('convertToInteractive',\n",
              "                                                     [key], {});\n",
              "          if (!dataTable) return;\n",
              "\n",
              "          const docLinkHtml = 'Like what you see? Visit the ' +\n",
              "            '<a target=\"_blank\" href=https://colab.research.google.com/notebooks/data_table.ipynb>data table notebook</a>'\n",
              "            + ' to learn more about interactive tables.';\n",
              "          element.innerHTML = '';\n",
              "          dataTable['output_type'] = 'display_data';\n",
              "          await google.colab.output.renderOutput(dataTable, element);\n",
              "          const docLink = document.createElement('div');\n",
              "          docLink.innerHTML = docLinkHtml;\n",
              "          element.appendChild(docLink);\n",
              "        }\n",
              "      </script>\n",
              "    </div>\n",
              "  </div>\n",
              "  "
            ]
          },
          "metadata": {},
          "execution_count": 37
        }
      ]
    },
    {
      "cell_type": "code",
      "source": [
        "df.info()"
      ],
      "metadata": {
        "colab": {
          "base_uri": "https://localhost:8080/"
        },
        "id": "ZAcgFRJe7-yv",
        "outputId": "86a7c093-6b25-4b72-e194-724c94034461"
      },
      "execution_count": 38,
      "outputs": [
        {
          "output_type": "stream",
          "name": "stdout",
          "text": [
            "<class 'pandas.core.frame.DataFrame'>\n",
            "RangeIndex: 8523 entries, 0 to 8522\n",
            "Data columns (total 12 columns):\n",
            " #   Column                     Non-Null Count  Dtype  \n",
            "---  ------                     --------------  -----  \n",
            " 0   Item_Identifier            8523 non-null   object \n",
            " 1   Item_Weight                7060 non-null   float64\n",
            " 2   Item_Fat_Content           8523 non-null   object \n",
            " 3   Item_Visibility            8523 non-null   float64\n",
            " 4   Item_Type                  8523 non-null   object \n",
            " 5   Item_MRP                   8523 non-null   float64\n",
            " 6   Outlet_Identifier          8523 non-null   object \n",
            " 7   Outlet_Establishment_Year  8523 non-null   int64  \n",
            " 8   Outlet_Size                6113 non-null   object \n",
            " 9   Outlet_Location_Type       8523 non-null   object \n",
            " 10  Outlet_Type                8523 non-null   object \n",
            " 11  Item_Outlet_Sales          8523 non-null   float64\n",
            "dtypes: float64(4), int64(1), object(7)\n",
            "memory usage: 799.2+ KB\n"
          ]
        }
      ]
    },
    {
      "cell_type": "code",
      "source": [
        "df['Item_Type'].describe()"
      ],
      "metadata": {
        "colab": {
          "base_uri": "https://localhost:8080/"
        },
        "id": "bt2Ekc268Hda",
        "outputId": "b3358bfb-d79f-4e4f-c696-ab23ed28593e"
      },
      "execution_count": 39,
      "outputs": [
        {
          "output_type": "execute_result",
          "data": {
            "text/plain": [
              "count                      8523\n",
              "unique                       16\n",
              "top       Fruits and Vegetables\n",
              "freq                       1232\n",
              "Name: Item_Type, dtype: object"
            ]
          },
          "metadata": {},
          "execution_count": 39
        }
      ]
    },
    {
      "cell_type": "code",
      "source": [
        "df['Outlet_Location_Type'].describe()"
      ],
      "metadata": {
        "colab": {
          "base_uri": "https://localhost:8080/"
        },
        "id": "1rrE_RbE8TS1",
        "outputId": "4d297eb3-8076-4226-a305-13ce97869367"
      },
      "execution_count": 40,
      "outputs": [
        {
          "output_type": "execute_result",
          "data": {
            "text/plain": [
              "count       8523\n",
              "unique         3\n",
              "top       Tier 3\n",
              "freq        3350\n",
              "Name: Outlet_Location_Type, dtype: object"
            ]
          },
          "metadata": {},
          "execution_count": 40
        }
      ]
    },
    {
      "cell_type": "code",
      "source": [
        "item_stats = df.groupby('Item_Type').describe()\n",
        "print(item_stats)\n",
        "\n",
        "# B. Records of every Outlet_Location_Type\n",
        "location_stats = df.groupby('Outlet_Location_Type').describe()\n",
        "print(location_stats)"
      ],
      "metadata": {
        "id": "sA6GPsGt8d1a",
        "colab": {
          "base_uri": "https://localhost:8080/"
        },
        "outputId": "ebd64101-f5b4-469c-c661-eec99f9d51e4"
      },
      "execution_count": 47,
      "outputs": [
        {
          "output_type": "stream",
          "name": "stdout",
          "text": [
            "                      Item_Weight                                        \\\n",
            "                            count       mean       std    min       25%   \n",
            "Item_Type                                                                 \n",
            "Baking Goods                536.0  12.277108  4.773622  4.880   8.23500   \n",
            "Breads                      204.0  11.346936  4.440540  4.635   7.12875   \n",
            "Breakfast                    89.0  12.768202  5.038131  6.425   8.06000   \n",
            "Canned                      539.0  12.305705  4.586564  4.615   8.11500   \n",
            "Dairy                       566.0  13.426069  4.686532  4.805   9.27750   \n",
            "Frozen Foods                718.0  12.867061  4.507383  4.555   8.93500   \n",
            "Fruits and Vegetables      1019.0  13.224769  4.575275  5.460   9.19500   \n",
            "Hard Drinks                 183.0  11.400328  4.239144  4.610   8.26000   \n",
            "Health and Hygiene          430.0  13.142314  4.512313  5.175   9.69500   \n",
            "Household                   759.0  13.384736  4.998845  5.030   8.69500   \n",
            "Meat                        337.0  12.817344  4.670812  5.150   9.30000   \n",
            "Others                      137.0  13.853285  4.225534  5.500  10.65000   \n",
            "Seafood                      51.0  12.552843  5.473830  5.365   7.42000   \n",
            "Snack Foods                 988.0  12.987880  4.531256  5.095   9.19500   \n",
            "Soft Drinks                 374.0  11.847460  4.403699  4.590   8.26000   \n",
            "Starchy Foods               130.0  13.690731  4.010061  6.695  11.50000   \n",
            "\n",
            "                                            Item_Visibility            ...  \\\n",
            "                          50%    75%    max           count      mean  ...   \n",
            "Item_Type                                                              ...   \n",
            "Baking Goods           11.650  15.75  20.85           648.0  0.069169  ...   \n",
            "Breads                 10.600  14.85  20.85           251.0  0.066255  ...   \n",
            "Breakfast              10.695  17.25  21.10           110.0  0.085723  ...   \n",
            "Canned                 12.150  16.25  21.35           649.0  0.068129  ...   \n",
            "Dairy                  13.350  17.60  20.70           682.0  0.072427  ...   \n",
            "Frozen Foods           12.850  17.00  20.85           856.0  0.065645  ...   \n",
            "Fruits and Vegetables  13.100  17.10  21.35          1232.0  0.068513  ...   \n",
            "Hard Drinks            10.100  14.85  19.70           214.0  0.064943  ...   \n",
            "Health and Hygiene     12.150  17.60  21.25           520.0  0.055216  ...   \n",
            "Household              13.150  18.35  21.25           910.0  0.061322  ...   \n",
            "Meat                   12.350  17.20  21.25           425.0  0.062284  ...   \n",
            "Others                 14.500  17.75  20.50           169.0  0.060241  ...   \n",
            "Seafood                11.650  17.75  20.75            64.0  0.074976  ...   \n",
            "Snack Foods            13.150  16.85  21.25          1200.0  0.066850  ...   \n",
            "Soft Drinks            11.800  15.35  20.75           445.0  0.063972  ...   \n",
            "Starchy Foods          13.175  16.70  21.20           148.0  0.067564  ...   \n",
            "\n",
            "                      Outlet_Establishment_Year         Item_Outlet_Sales  \\\n",
            "                                            75%     max             count   \n",
            "Item_Type                                                                   \n",
            "Baking Goods                             2004.0  2009.0             648.0   \n",
            "Breads                                   2004.0  2009.0             251.0   \n",
            "Breakfast                                2004.0  2009.0             110.0   \n",
            "Canned                                   2004.0  2009.0             649.0   \n",
            "Dairy                                    2004.0  2009.0             682.0   \n",
            "Frozen Foods                             2004.0  2009.0             856.0   \n",
            "Fruits and Vegetables                    2004.0  2009.0            1232.0   \n",
            "Hard Drinks                              2004.0  2009.0             214.0   \n",
            "Health and Hygiene                       2004.0  2009.0             520.0   \n",
            "Household                                2004.0  2009.0             910.0   \n",
            "Meat                                     2004.0  2009.0             425.0   \n",
            "Others                                   2004.0  2009.0             169.0   \n",
            "Seafood                                  2004.0  2009.0              64.0   \n",
            "Snack Foods                              2004.0  2009.0            1200.0   \n",
            "Soft Drinks                              2004.0  2009.0             445.0   \n",
            "Starchy Foods                            2004.0  2009.0             148.0   \n",
            "\n",
            "                                                                      \\\n",
            "                              mean          std       min        25%   \n",
            "Item_Type                                                              \n",
            "Baking Goods           1952.971207  1546.788045   37.2848  705.08220   \n",
            "Breads                 2204.132226  1644.235914   35.2874  968.73900   \n",
            "Breakfast              2111.808651  1911.693586   39.9480  679.11600   \n",
            "Canned                 2225.194904  1645.235638   37.9506  952.09400   \n",
            "Dairy                  2232.542597  1884.404698   40.6138  788.97300   \n",
            "Frozen Foods           2132.867744  1724.777720   36.6190  808.94700   \n",
            "Fruits and Vegetables  2289.009592  1799.503459   45.2744  884.84820   \n",
            "Hard Drinks            2139.221622  1606.191587   37.9506  834.91320   \n",
            "Health and Hygiene     2010.000265  1553.633063   34.6216  758.84555   \n",
            "Household              2258.784300  1692.245757   33.2900  853.38915   \n",
            "Meat                   2158.977911  1695.231081   47.9376  782.98080   \n",
            "Others                 1926.139702  1431.860471   39.9480  790.97040   \n",
            "Seafood                2326.065928  1842.988719  149.8050  473.38380   \n",
            "Snack Foods            2277.321739  1705.121755   33.9558  918.80400   \n",
            "Soft Drinks            2006.511735  1674.249752   33.2900  771.66220   \n",
            "Starchy Foods          2374.332773  1773.945328   58.5904  958.75200   \n",
            "\n",
            "                                                          \n",
            "                             50%         75%         max  \n",
            "Item_Type                                                 \n",
            "Baking Goods           1577.9460  2823.82425   7931.6754  \n",
            "Breads                 1860.2452  3145.90500   8958.3390  \n",
            "Breakfast              1554.6430  2970.30025   8209.3140  \n",
            "Canned                 1860.2452  3101.29640  10306.5840  \n",
            "Dairy                  1650.8511  3296.20935  10256.6490  \n",
            "Frozen Foods           1687.1372  3079.49145   9678.0688  \n",
            "Fruits and Vegetables  1830.9500  3227.13260  12117.5600  \n",
            "Hard Drinks            1816.6353  3071.33540   7843.1240  \n",
            "Health and Hygiene     1669.4935  2884.57850   9779.9362  \n",
            "Household              1981.4208  3236.78670  13086.9648  \n",
            "Meat                   1829.6184  3036.04800   9390.4432  \n",
            "Others                 1713.7692  2719.79300   6008.8450  \n",
            "Seafood                2055.3246  3589.32780   6503.5344  \n",
            "Snack Foods            1944.1360  3143.57470  10993.6896  \n",
            "Soft Drinks            1518.0240  2759.07520   9554.2300  \n",
            "Starchy Foods          1968.1048  3592.65680   8132.0812  \n",
            "\n",
            "[16 rows x 40 columns]\n",
            "                     Item_Weight                                               \\\n",
            "                           count       mean       std    min      25%     50%   \n",
            "Outlet_Location_Type                                                            \n",
            "Tier 1                    1860.0  12.892124  4.666734  4.555  8.77375  12.625   \n",
            "Tier 2                    2785.0  12.768628  4.607141  4.555  8.75000  12.500   \n",
            "Tier 3                    2415.0  12.933745  4.667359  4.555  8.82000  12.650   \n",
            "\n",
            "                                   Item_Visibility            ...  \\\n",
            "                        75%    max           count      mean  ...   \n",
            "Outlet_Location_Type                                          ...   \n",
            "Tier 1                17.00  21.35          2388.0  0.071205  ...   \n",
            "Tier 2                16.75  21.35          2785.0  0.061038  ...   \n",
            "Tier 3                17.00  21.35          3350.0  0.066751  ...   \n",
            "\n",
            "                     Outlet_Establishment_Year         Item_Outlet_Sales  \\\n",
            "                                           75%     max             count   \n",
            "Outlet_Location_Type                                                       \n",
            "Tier 1                                  1999.0  1999.0            2388.0   \n",
            "Tier 2                                  2007.0  2007.0            2785.0   \n",
            "Tier 3                                  2009.0  2009.0            3350.0   \n",
            "\n",
            "                                                                     \\\n",
            "                             mean          std      min         25%   \n",
            "Outlet_Location_Type                                                  \n",
            "Tier 1                1876.909159  1561.649293  33.9558   593.72715   \n",
            "Tier 2                2323.990559  1520.543543  99.8700  1171.80800   \n",
            "Tier 3                2279.627651  1912.451333  33.2900   731.38130   \n",
            "\n",
            "                                                        \n",
            "                            50%        75%         max  \n",
            "Outlet_Location_Type                                    \n",
            "Tier 1                1487.3972  2803.0180   9779.9362  \n",
            "Tier 2                2004.0580  3110.6176   9664.7528  \n",
            "Tier 3                1812.3076  3307.6944  13086.9648  \n",
            "\n",
            "[3 rows x 40 columns]\n"
          ]
        }
      ]
    },
    {
      "cell_type": "code",
      "source": [
        "# Filter data for dairy products\n",
        "dairy_data = df[df['Item_Type'] == 'Dairy']\n",
        "\n",
        "# Group by Outlet_Location_Type and calculate statistics\n",
        "location_stats = dairy_data.groupby('Outlet_Location_Type').describe()\n",
        "print(location_stats)"
      ],
      "metadata": {
        "colab": {
          "base_uri": "https://localhost:8080/"
        },
        "id": "vUownrz294dU",
        "outputId": "b0220775-8af0-40ab-ecbd-0b1252e6d18f"
      },
      "execution_count": 48,
      "outputs": [
        {
          "output_type": "stream",
          "name": "stdout",
          "text": [
            "                     Item_Weight                                        \\\n",
            "                           count       mean       std    min       25%   \n",
            "Outlet_Location_Type                                                     \n",
            "Tier 1                     156.0  13.655929  4.602064  4.805  10.30000   \n",
            "Tier 2                     214.0  13.179369  4.621294  4.805   8.94500   \n",
            "Tier 3                     196.0  13.512474  4.833137  4.805   9.18875   \n",
            "\n",
            "                                          Item_Visibility            ...  \\\n",
            "                         50%    75%   max           count      mean  ...   \n",
            "Outlet_Location_Type                                                 ...   \n",
            "Tier 1                13.550  17.75  20.7           205.0  0.079202  ...   \n",
            "Tier 2                13.100  17.25  20.7           214.0  0.063705  ...   \n",
            "Tier 3                13.725  17.75  20.7           263.0  0.074243  ...   \n",
            "\n",
            "                     Outlet_Establishment_Year         Item_Outlet_Sales  \\\n",
            "                                           75%     max             count   \n",
            "Outlet_Location_Type                                                       \n",
            "Tier 1                                  1999.0  1999.0             205.0   \n",
            "Tier 2                                  2007.0  2007.0             214.0   \n",
            "Tier 3                                  2009.0  2009.0             263.0   \n",
            "\n",
            "                                                                     \\\n",
            "                             mean          std       min        25%   \n",
            "Outlet_Location_Type                                                  \n",
            "Tier 1                1809.322867  1550.040020   40.6138   578.5802   \n",
            "Tier 2                2456.416209  1834.315342  181.0976  1133.8574   \n",
            "Tier 3                2380.265379  2102.539061   47.2718   783.9795   \n",
            "\n",
            "                                                        \n",
            "                            50%        75%         max  \n",
            "Outlet_Location_Type                                    \n",
            "Tier 1                1338.2580  3020.7346   7833.8028  \n",
            "Tier 2                1960.7810  3444.1834   9664.7528  \n",
            "Tier 3                1791.6678  3458.4981  10256.6490  \n",
            "\n",
            "[3 rows x 40 columns]\n"
          ]
        }
      ]
    },
    {
      "cell_type": "code",
      "source": [
        "# Calculate minimum establishment year for each outlet\n",
        "outlet_ages = df.groupby('Outlet_Identifier')['Outlet_Establishment_Year'].min()\n",
        "\n",
        "# Sort outlets based on their age of establishment\n",
        "oldest_outlets = outlet_ages.sort_values()\n",
        "\n",
        "# Display the oldest outlets\n",
        "print(oldest_outlets)\n"
      ],
      "metadata": {
        "colab": {
          "base_uri": "https://localhost:8080/"
        },
        "id": "CbLRx_-l-EQP",
        "outputId": "aaa4c5a4-a170-4d54-ea35-20245f6a06d1"
      },
      "execution_count": 50,
      "outputs": [
        {
          "output_type": "stream",
          "name": "stdout",
          "text": [
            "Outlet_Identifier\n",
            "OUT019    1985\n",
            "OUT027    1985\n",
            "OUT013    1987\n",
            "OUT046    1997\n",
            "OUT010    1998\n",
            "OUT049    1999\n",
            "OUT045    2002\n",
            "OUT035    2004\n",
            "OUT017    2007\n",
            "OUT018    2009\n",
            "Name: Outlet_Establishment_Year, dtype: int64\n"
          ]
        }
      ]
    },
    {
      "cell_type": "code",
      "source": [
        "# Filter data for high-size outlets and low fat/LF products\n",
        "high_size_data = df[df['Outlet_Size'] == 'High']\n",
        "low_fat_data = high_size_data[high_size_data['Item_Type'] == 'Low Fat']\n",
        "\n",
        "if not low_fat_data.empty:\n",
        "    # Find the outlet with the minimum stock for low fat/LF products\n",
        "    min_stock_outlet = low_fat_data['Outlet_Identifier'][low_fat_data['Item_Outlet_Sales'].idxmin()]\n",
        "\n",
        "    # Check if there are small-size outlets with similar stock values for low fat/LF products\n",
        "    small_size_data = data[data['Outlet_Size'] == 'Small']\n",
        "    similar_stock_outlets = small_size_data[small_size_data['Item_Outlet_Sales'] <= low_fat_data['Item_Outlet_Sales'].min()]\n",
        "\n",
        "    # Display the results\n",
        "    print(\"High-size outlet with the minimum stock for Low Fat/LF products:\")\n",
        "    print(min_stock_outlet)\n",
        "    print(\"\\nSmall-size outlets with similar stock values for Low Fat/LF products:\")\n",
        "    print(similar_stock_outlets[['Outlet_Identifier', 'Item_Outlet_Sales']])\n",
        "else:\n",
        "    print(\"No high-size outlets with low fat/LF products found.\")"
      ],
      "metadata": {
        "colab": {
          "base_uri": "https://localhost:8080/"
        },
        "id": "dSuFNdVH-L1_",
        "outputId": "49a5659e-a8eb-4c13-ae6f-820a5dab65e2"
      },
      "execution_count": 56,
      "outputs": [
        {
          "output_type": "stream",
          "name": "stdout",
          "text": [
            "No high-size outlets with low fat/LF products found.\n"
          ]
        }
      ]
    },
    {
      "cell_type": "code",
      "source": [
        "# Filter data for items with MRP > 200\n",
        "high_mrp_data = df[df['Item_MRP'] > 200]\n",
        "\n",
        "# Count the number of low fat/LF and regular fat/reg items\n",
        "lf_count = high_mrp_data[high_mrp_data['Item_Fat_Content'].isin(['Low Fat', 'LF'])].shape[0]\n",
        "reg_count = high_mrp_data[high_mrp_data['Item_Fat_Content'].isin(['Regular', 'reg'])].shape[0]\n",
        "\n",
        "# Display the results\n",
        "print(\"Count of Low Fat/LF items with MRP > 200:\", lf_count)\n",
        "print(\"Count of Regular Fat/Reg items with MRP > 200:\", reg_count)\n"
      ],
      "metadata": {
        "id": "7yoB0AMhAQZM",
        "colab": {
          "base_uri": "https://localhost:8080/"
        },
        "outputId": "1a5b618a-6a9a-402e-f256-8bdeb4456ce1"
      },
      "execution_count": 57,
      "outputs": [
        {
          "output_type": "stream",
          "name": "stdout",
          "text": [
            "Count of Low Fat/LF items with MRP > 200: 911\n",
            "Count of Regular Fat/Reg items with MRP > 200: 507\n"
          ]
        }
      ]
    },
    {
      "cell_type": "code",
      "source": [
        "# Filter data for Tier 2 outlets\n",
        "tier2_data = df[df['Outlet_Location_Type'] == 'Tier 2']\n",
        "\n",
        "# Find the outlet(s) with the highest sales in Tier 2\n",
        "highest_sales_tier2 = tier2_data[tier2_data['Item_Outlet_Sales'] == tier2_data['Item_Outlet_Sales'].max()]\n",
        "\n",
        "# Get the sales value for comparison\n",
        "tier2_sales_value = highest_sales_tier2['Item_Outlet_Sales'].values[0]\n",
        "\n",
        "# Filter data for Tier 3 outlets with sales less than or equal to the Tier 2 outlet(s)\n",
        "tier3_data = df[(df['Outlet_Location_Type'] == 'Tier 3') & (df['Item_Outlet_Sales'] <= tier2_sales_value)]\n",
        "\n",
        "# Display the outlets with the highest sales in Tier 2 and similar outlets in Tier 3\n",
        "print(\"Outlets with the highest sales in Tier 2:\")\n",
        "print(highest_sales_tier2[['Outlet_Identifier', 'Item_Outlet_Sales']])\n",
        "\n",
        "print(\"\\nSimilar outlets in Tier 3 locations:\")\n",
        "print(tier3_data[['Outlet_Identifier', 'Item_Outlet_Sales']])"
      ],
      "metadata": {
        "colab": {
          "base_uri": "https://localhost:8080/"
        },
        "id": "L0RAKxdBG4Bp",
        "outputId": "752d9e2c-a59d-44e8-ebd9-a2b5297fdef1"
      },
      "execution_count": 59,
      "outputs": [
        {
          "output_type": "stream",
          "name": "stdout",
          "text": [
            "Outlets with the highest sales in Tier 2:\n",
            "     Outlet_Identifier  Item_Outlet_Sales\n",
            "4961            OUT017          9664.7528\n",
            "\n",
            "Similar outlets in Tier 3 locations:\n",
            "     Outlet_Identifier  Item_Outlet_Sales\n",
            "1               OUT018           443.4228\n",
            "3               OUT010           732.3800\n",
            "4               OUT013           994.7052\n",
            "5               OUT018           556.6088\n",
            "6               OUT013           343.5528\n",
            "...                ...                ...\n",
            "8512            OUT013          2479.4392\n",
            "8515            OUT018          1571.2880\n",
            "8516            OUT018           858.8820\n",
            "8518            OUT013          2778.3834\n",
            "8521            OUT018          1845.5976\n",
            "\n",
            "[3341 rows x 2 columns]\n"
          ]
        }
      ]
    },
    {
      "cell_type": "code",
      "source": [],
      "metadata": {
        "id": "pHSTqq_xHPEW"
      },
      "execution_count": null,
      "outputs": []
    }
  ]
}